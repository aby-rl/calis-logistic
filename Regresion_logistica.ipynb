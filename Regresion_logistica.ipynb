{
 "cells": [
  {
   "cell_type": "markdown",
   "id": "83ae01c5-2d99-41e0-a9ee-d54e3d1b1018",
   "metadata": {},
   "source": [
    "## A2.1 Regresión logística y validación cruzada"
   ]
  },
  {
   "cell_type": "markdown",
   "id": "c0fdd4e9-cb64-4473-a604-2b03b6f88e76",
   "metadata": {},
   "source": [
    "***"
   ]
  },
  {
   "cell_type": "markdown",
   "id": "164fd87b-88f0-42e1-a849-0f10dc4eba8d",
   "metadata": {},
   "source": [
    "**1.** Se importa la libreria pandas para cargar el archivo *student dropout* con la base de datos a utilizar. Se selecciona la variable de salida *Dropped_Out* que en este caso se hace una conversión de los valores *yes* y *no* a binarios para que sean utilizados a lo largo del trabajo."
   ]
  },
  {
   "cell_type": "code",
   "execution_count": 4,
   "id": "1dea2d22-a1e9-495d-990c-c2964bb3e8ad",
   "metadata": {},
   "outputs": [],
   "source": [
    "import pandas as pd\n",
    "df = pd.read_csv(\"student dropout.csv\")\n",
    "\n",
    "df[\"Dropped_Out\"] = df[\"Dropped_Out\"].astype(int)"
   ]
  },
  {
   "cell_type": "markdown",
   "id": "01a46c6c-c658-432e-b752-5a0aa49858c0",
   "metadata": {},
   "source": [
    "***"
   ]
  },
  {
   "cell_type": "markdown",
   "id": "e1b829b1-243c-43e8-99b8-ec403cab9f0b",
   "metadata": {},
   "source": [
    "**2.** Se importan *train_test_split* y *cross_val_score* de la liberia sklearn. \n",
    "Antes de entrenar el modelo se imprime la proporción de clase en los datos originales. \n",
    "Luego se separa la base de datos en entrenamiento y prueba con una proporción 80/20. En este caso en particular para mantener el balance de clases se utiliza *stratify=y*. Este parámetro se asegura de que tanto el conjunto de entrenamiento como el de prueba conserven aproximadamente la misma proporción de clases que los datos originales. Esto ayuda a evitar problemas de sesgo.\n",
    "Posterior a esto se muestran las proporciones de clases en ambas partes, tanto en entrenamiento como prueba."
   ]
  },
  {
   "cell_type": "code",
   "execution_count": 7,
   "id": "677da072-06b4-4574-ad47-c175f930fd5a",
   "metadata": {},
   "outputs": [
    {
     "name": "stdout",
     "output_type": "stream",
     "text": [
      "Proporción de clases en datos originales:\n",
      "Dropped_Out\n",
      "0    0.845917\n",
      "1    0.154083\n",
      "Name: proportion, dtype: float64\n",
      "Proporción de clases en datos de entrenamiento:\n",
      "Dropped_Out\n",
      "0    0.845857\n",
      "1    0.154143\n",
      "Name: proportion, dtype: float64\n",
      "Proporción de clases en datos de prueba:\n",
      "Dropped_Out\n",
      "0    0.846154\n",
      "1    0.153846\n",
      "Name: proportion, dtype: float64\n"
     ]
    }
   ],
   "source": [
    "from sklearn.model_selection import train_test_split, cross_val_score\n",
    "class_proportion = df[\"Dropped_Out\"].value_counts(normalize=True)\n",
    "print(\"Proporción de clases en datos originales:\")\n",
    "print(class_proportion)\n",
    "\n",
    "X = df.drop(columns=[\"Dropped_Out\"])\n",
    "y = df[\"Dropped_Out\"]\n",
    "X_train, X_test, y_train, y_test = train_test_split(X, y, test_size=0.2, random_state=42, stratify=y)\n",
    "\n",
    "print(\"Proporción de clases en datos de entrenamiento:\")\n",
    "print(y_train.value_counts(normalize=True))\n",
    "print(\"Proporción de clases en datos de prueba:\")\n",
    "print(y_test.value_counts(normalize=True))"
   ]
  },
  {
   "cell_type": "markdown",
   "id": "8beb2e29-2359-4f02-873a-21fe16da170e",
   "metadata": {},
   "source": [
    "***"
   ]
  },
  {
   "cell_type": "markdown",
   "id": "89bdd154-7db4-4783-bd1f-42aadbd432a9",
   "metadata": {},
   "source": [
    "**3.** Se importa *LogisticRegression, confusion_matrix, accuracy_score, recall_score, roc_curve, roc_auc_score*, todas de la libreria sklearn esto para poder realizar todos los cálculos necesarios. \n",
    "\n",
    "Primeramente se convierten las variables categóricas en variables númericas usando one-hot encoding. Se entrena un modelo de regresión logística utilizando únicamente los datos de entrenamiento y se evalúa su desempeño con una técnica de validación cruzada.\n",
    "\n",
    "Al momento de crear el modelo de regresión logística se utiliza el parámetro \"class_weight=balanced\", lo que ajusta los pesos de las clases para compensar el desbalance. Así mismo, el parámetro *max_iter* establece el número máximo de iteraciones para asegurar convergencia.\n",
    "\n",
    "Se usa validación crizada con 5 folds para evaluar el modelo, midiendo la exactitud en cada fold. Se calcula el promedio de exactitud en los 5 folds. Esto permite evaluar la capacidad predictiva del modelo sin sobre ajustarlo a un solo conjunto de datos."
   ]
  },
  {
   "cell_type": "code",
   "execution_count": 41,
   "id": "72930b6b-db8c-4f5f-ad2e-913b7d2d7ee0",
   "metadata": {},
   "outputs": [
    {
     "name": "stdout",
     "output_type": "stream",
     "text": [
      "Exactitud promedio en validación cruzada: 0.988386855862584\n"
     ]
    }
   ],
   "source": [
    "from sklearn.linear_model import LogisticRegression\n",
    "from sklearn.metrics import confusion_matrix, accuracy_score, recall_score, roc_curve, roc_auc_score\n",
    "\n",
    "X_train_encoded = pd.get_dummies(X_train, drop_first=True)\n",
    "log_reg = LogisticRegression(max_iter=250, random_state=42, class_weight=\"balanced\")\n",
    "cv_scores = cross_val_score(log_reg, X_train_encoded, y_train, cv=5, scoring=\"accuracy\")\n",
    "print(\"Exactitud promedio en validación cruzada:\", cv_scores.mean())"
   ]
  },
  {
   "cell_type": "markdown",
   "id": "dea68bee-7765-4926-945c-72bb7b4a090f",
   "metadata": {},
   "source": [
    "***"
   ]
  },
  {
   "cell_type": "markdown",
   "id": "02991f3b-18fe-4554-9169-fed63b7dec3e",
   "metadata": {},
   "source": [
    "**4.** Utilizando ahora todo el conjunto de datos se vuelve a entrenar un modelo con regresión logística y se generan predicciones en términos de probabilidades para los datos de prueba.\n",
    "\n",
    "Se aplican las mismas transformaciones de one-hot encoding al conjunto de prueba. Se ajusta le modelo usando todos los datos y genera la probabilidad de pertenecer a la clase 1 (abandonar los estudios). Debido a que la curva ROC normalmente evalúa la capacidad del modelo para predecir la clase positiva (abandono), se usa la columna 1 la cual contiene la probabilidad de que la observación pertenezca a esa clase."
   ]
  },
  {
   "cell_type": "code",
   "execution_count": 13,
   "id": "86af3499-549c-4d8d-88e3-5df9744c48ed",
   "metadata": {},
   "outputs": [],
   "source": [
    "X_test_encoded = pd.get_dummies(X_test, drop_first=True)\n",
    "log_reg.fit(X_train_encoded, y_train)\n",
    "y_prob = log_reg.predict_proba(X_test_encoded)[:, 1]"
   ]
  },
  {
   "cell_type": "markdown",
   "id": "fe8d6469-44f5-4f06-a187-5db43f7024c1",
   "metadata": {},
   "source": [
    "***"
   ]
  },
  {
   "cell_type": "markdown",
   "id": "e00ced47-40d0-4a1d-842d-186397e7e685",
   "metadata": {},
   "source": [
    "**5.** Se evalua con 3 umbrales diferentes, en este caso en particular se seleccionaron el 0.3, 0.5, 0.7. Para cada umbral, se hacen predicciones y se evalúan métricas. Se construye la matriz de confusión, que indica cuántos casos fueron correctamente e incorrectamente clasiificados. \n",
    "\n",
    "Así mismo en cada evaluación se obtiene la sensibilidad (cuántos de los que realmente abandonaron fueron detectados correctamente), exactitud (porcentaje de predicciones correctas) y especificidad (cuántos de los que no abandonaron fueron clasificados correctamente), así como una matríz de confusión.\n",
    "\n",
    "Umbral 0.3 indica menos falsos positivos pero más falsos negativos.\n",
    "Umbral 0.5 indica una clasificación balanceada.\n",
    "Umbral 0.7 indica más falsos positivos pero menos falsos negativos."
   ]
  },
  {
   "cell_type": "code",
   "execution_count": 16,
   "id": "9ed7d2bf-3db9-4691-970f-816315cc0ebf",
   "metadata": {},
   "outputs": [
    {
     "name": "stdout",
     "output_type": "stream",
     "text": [
      "Resultados para umbral 0.5:\n",
      "Exactitud: 0.9846 , Sensibilidad: 0.95 , Especificidad: 0.9909\n",
      "Matriz de confusión:\n",
      "[[109   1]\n",
      " [  1  19]]\n",
      "Resultados para umbral 0.7:\n",
      "Exactitud: 0.9846 , Sensibilidad: 0.95 , Especificidad: 0.9909\n",
      "Matriz de confusión:\n",
      "[[109   1]\n",
      " [  1  19]]\n",
      "Resultados para umbral 0.3:\n",
      "Exactitud: 0.9615 , Sensibilidad: 0.95 , Especificidad: 0.9636\n",
      "Matriz de confusión:\n",
      "[[106   4]\n",
      " [  1  19]]\n"
     ]
    }
   ],
   "source": [
    "y_pred_05 = (y_prob >= 0.5).astype(int)\n",
    "cm_05 = confusion_matrix(y_test, y_pred_05)\n",
    "accuracy_05 = accuracy_score(y_test, y_pred_05)\n",
    "sensitivity_05 = recall_score(y_test, y_pred_05)\n",
    "specificity_05 = cm_05[0, 0] / (cm_05[0, 0] + cm_05[0, 1])\n",
    "print(\"Resultados para umbral 0.5:\")\n",
    "print(\"Exactitud:\", round(accuracy_05, 4), \", Sensibilidad:\", round(sensitivity_05, 4),\", Especificidad:\", round(specificity_05, 4))\n",
    "print(\"Matriz de confusión:\")\n",
    "print(cm_05)\n",
    "\n",
    "y_pred_07 = (y_prob >= 0.7).astype(int)\n",
    "cm_07 = confusion_matrix(y_test, y_pred_07)\n",
    "accuracy_07 = accuracy_score(y_test, y_pred_07)\n",
    "sensitivity_07 = recall_score(y_test, y_pred_07)\n",
    "specificity_07 = cm_07[0, 0] / (cm_07[0, 0] + cm_07[0, 1])\n",
    "print(\"Resultados para umbral 0.7:\")\n",
    "print(\"Exactitud:\", round(accuracy_07, 4), \", Sensibilidad:\", round(sensitivity_07, 4),\", Especificidad:\", round(specificity_07, 4))\n",
    "print(\"Matriz de confusión:\")\n",
    "print(cm_07)\n",
    "\n",
    "y_pred_03 = (y_prob >= 0.3).astype(int)\n",
    "cm_03 = confusion_matrix(y_test, y_pred_03)\n",
    "accuracy_03 = accuracy_score(y_test, y_pred_03)\n",
    "sensitivity_03 = recall_score(y_test, y_pred_03)\n",
    "specificity_03 = cm_03[0, 0] / (cm_03[0, 0] + cm_03[0, 1])\n",
    "print(\"Resultados para umbral 0.3:\")\n",
    "print(\"Exactitud:\", round(accuracy_03, 4), \", Sensibilidad:\", round(sensitivity_03, 4),\", Especificidad:\", round(specificity_03, 4))\n",
    "print(\"Matriz de confusión:\")\n",
    "print(cm_03)"
   ]
  },
  {
   "cell_type": "markdown",
   "id": "8bb2b9a4-eda8-4ab1-8df4-cbf191628baa",
   "metadata": {},
   "source": [
    "***"
   ]
  },
  {
   "cell_type": "markdown",
   "id": "a82ef2ac-4643-41f3-9bd8-e9d4415d5e42",
   "metadata": {},
   "source": [
    "**6.** Una vez realizados los cálculos y entrenamientos de los modelos, se importa *matplotlib.pyplot* para revisar de una manera más visual los resultados obtenidos. Se grafica la cruva ROC y obtiene su valor AUC del modelo.\n",
    "\n",
    "En el eje x (Tasa de Falsos Positivos) se muestran cuántos de los estudiantes que no abandonaron fueron clasificados erróneamente como si abandonaran.\n",
    "En el eje y (Tasa de Verdaderos Positivos) se muestran cuántos de los estudiantes que sí abandonaron fueron clasificados correctamente como tales.\n",
    "\n",
    "La curva ROC muestra el rendimiento del modelo a distintos umbrales de clasificación."
   ]
  },
  {
   "cell_type": "code",
   "execution_count": 19,
   "id": "a8b1b9b0-c422-4fee-8187-ff34b4882e74",
   "metadata": {},
   "outputs": [
    {
     "data": {
      "image/png": "[encoded data removed]",
      "text/plain": [
       "<Figure size 640x480 with 1 Axes>"
      ]
     },
     "metadata": {},
     "output_type": "display_data"
    },
    {
     "name": "stdout",
     "output_type": "stream",
     "text": [
      "AUC del modelo: 0.9945\n"
     ]
    }
   ],
   "source": [
    "import matplotlib.pyplot as plt\n",
    "\n",
    "fpr, tpr, thresholds = roc_curve(y_test, y_prob)\n",
    "auc_value = roc_auc_score(y_test, y_prob)\n",
    "\n",
    "plt.plot(fpr, tpr, label='Curva ROC')\n",
    "plt.plot([0, 1], [0, 1], 'k')\n",
    "plt.xlabel('Tasa de Falsos Positivos')\n",
    "plt.ylabel('Tasa de Verdaderos Positivos')\n",
    "plt.title('Curva ROC')\n",
    "plt.legend()\n",
    "plt.grid()\n",
    "plt.show()\n",
    "\n",
    "print(\"AUC del modelo:\", round(auc_value, 4))"
   ]
  },
  {
   "cell_type": "markdown",
   "id": "07c5b18a-be22-43e0-9353-7bb8768f9113",
   "metadata": {},
   "source": [
    "***"
   ]
  },
  {
   "cell_type": "markdown",
   "id": "03f581ad-63fb-4e46-a6d4-3aa5deef4289",
   "metadata": {},
   "source": [
    "**7.** Por último utilizando los coeficientes obtenidos es posible determinar el efecto de cada una de las variables en la de salida, siendo *Dropped_Out*. Cada coeficiente indica cuánto afecta la variable en la probabilidad de abandono.\n",
    "\n",
    "La curva alta y hacia la esquina superior izquierda indica un buen modelo, es decir, tiene alta sensibilidad y baja tasa de falso positivos, lo que significa que clasifica correctamente la mayoría de los casos.\n",
    "\n",
    "El valor AUC= 0.9945 indica el área bajo la curva lo cual mide la capacidad del modelo para diferenciar entre los estudiantes que abandonan y los que no."
   ]
  },
  {
   "cell_type": "code",
   "execution_count": 22,
   "id": "d83485c2-ad01-4e26-bd7e-8803a1785cf5",
   "metadata": {},
   "outputs": [
    {
     "name": "stdout",
     "output_type": "stream",
     "text": [
      "Coeficientes del modelo:\n",
      "                                 Variable  Coeficiente\n",
      "0                                     Age    -0.411684\n",
      "1                        Mother_Education    -0.133040\n",
      "2                        Father_Education    -0.025497\n",
      "3                             Travel_Time     0.043929\n",
      "4                              Study_Time    -0.167011\n",
      "5                      Number_of_Failures     0.035866\n",
      "6                     Family_Relationship     0.013621\n",
      "7                               Free_Time    -0.000572\n",
      "8                               Going_Out     0.119692\n",
      "9             Weekend_Alcohol_Consumption     0.124677\n",
      "10            Weekday_Alcohol_Consumption     0.113139\n",
      "11                          Health_Status    -0.085838\n",
      "12                     Number_of_Absences    -0.051861\n",
      "13                                Grade_1    -0.726576\n",
      "14                                Grade_2    -0.587232\n",
      "15                            Final_Grade    -4.179842\n",
      "16                              School_MS     0.365450\n",
      "17                               Gender_M     0.353634\n",
      "18                              Address_U     0.136637\n",
      "19                        Family_Size_LE3     0.165357\n",
      "20                      Parental_Status_T     0.081782\n",
      "21                      Mother_Job_health     0.133029\n",
      "22                       Mother_Job_other    -0.381433\n",
      "23                    Mother_Job_services    -0.067492\n",
      "24                     Mother_Job_teacher    -0.197348\n",
      "25                      Father_Job_health     0.052612\n",
      "26                       Father_Job_other     0.116908\n",
      "27                    Father_Job_services    -0.022516\n",
      "28                     Father_Job_teacher    -0.049839\n",
      "29        Reason_for_Choosing_School_home     0.168568\n",
      "30       Reason_for_Choosing_School_other     0.082584\n",
      "31  Reason_for_Choosing_School_reputation    -0.198483\n",
      "32                        Guardian_mother     0.116426\n",
      "33                         Guardian_other     0.094387\n",
      "34                     School_Support_yes    -0.024025\n",
      "35                     Family_Support_yes    -0.128488\n",
      "36                   Extra_Paid_Class_yes     0.081722\n",
      "37        Extra_Curricular_Activities_yes    -0.369329\n",
      "38                   Attended_Nursery_yes    -0.219172\n",
      "39             Wants_Higher_Education_yes     0.001338\n",
      "40                    Internet_Access_yes     0.125500\n",
      "41                    In_Relationship_yes     0.129296\n"
     ]
    }
   ],
   "source": [
    "coefficients = pd.DataFrame({\"Variable\": X_train_encoded.columns, \"Coeficiente\": log_reg.coef_[0]})\n",
    "print(\"Coeficientes del modelo:\")\n",
    "print(coefficients)"
   ]
  },
  {
   "cell_type": "markdown",
   "id": "1d8b694e-a493-4ef0-9a98-639031e39364",
   "metadata": {},
   "source": [
    "Los coeficientes positivos aumentan la probabilidad de abandono, los negativos reducen la probabilidad de abandono, y los coeficientes cercanos a cero tienen poco impacto en la decisión de abandonar.\n",
    "\n",
    "El modelo de regresión logística estima la probabilidad de que un estudiante abandone o no sus estudios y los coeficientes indican cómo cada variable influye en esa probabilidad. Cada coeficiente representa el cambio en la probabilidad de abandono por cada unidad de aumento en la variable, manteniendo las demás constantes.\n",
    "\n",
    "Tomando como ejemplo 3 variables, para este caso en específico:\n",
    "- School_Support_yes (0.0302): indica que tener apoyo escolar reduce ligeramente la probabilidad de abandono.\n",
    "- Family_Support_yes (-0.1282): indica que contar con apoyo familiar disminuye la probabilidad de abandono.\n",
    "- Internet_Access_yes (+0.1185): inidica que tener accesso a internet aumenta ligeramente la probabilidad de abandono."
   ]
  }
 ],
 "metadata": {
  "kernelspec": {
   "display_name": "Python [conda env:base] *",
   "language": "python",
   "name": "conda-base-py"
  },
  "language_info": {
   "codemirror_mode": {
    "name": "ipython",
    "version": 3
   },
   "file_extension": ".py",
   "mimetype": "text/x-python",
   "name": "python",
   "nbconvert_exporter": "python",
   "pygments_lexer": "ipython3",
   "version": "3.12.3"
  }
 },
 "nbformat": 4,
 "nbformat_minor": 5
}
